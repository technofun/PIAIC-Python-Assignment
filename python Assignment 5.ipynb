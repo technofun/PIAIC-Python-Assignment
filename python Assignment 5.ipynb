{
 "cells": [
  {
   "cell_type": "markdown",
   "metadata": {},
   "source": [
    "# python Assignment 5 , Numan ijaz , PIAIC50434"
   ]
  },
  {
   "cell_type": "markdown",
   "metadata": {},
   "source": [
    "Araea of Circle "
   ]
  },
  {
   "cell_type": "code",
   "execution_count": 11,
   "metadata": {},
   "outputs": [
    {
     "name": "stdout",
     "output_type": "stream",
     "text": [
      "enter the radius :22\n",
      "Area ≈ 1520.244\n"
     ]
    }
   ],
   "source": [
    "radius = float(input(\"enter the radius :\"))\n",
    "def calcArea(radius, pi=3.141):\n",
    "    Area = pi * (radius **2)\n",
    "    return print(f\"Area ≈ {Area}\") \n",
    "\n",
    "calcArea(radius)"
   ]
  },
  {
   "cell_type": "markdown",
   "metadata": {},
   "source": []
  },
  {
   "cell_type": "markdown",
   "metadata": {},
   "source": [
    " check if a value exists in a list"
   ]
  },
  {
   "cell_type": "code",
   "execution_count": 20,
   "metadata": {},
   "outputs": [
    {
     "name": "stdout",
     "output_type": "stream",
     "text": [
      "python\n",
      "c\n",
      "html\n"
     ]
    }
   ],
   "source": [
    "data = [\"python\", \"r\", \"java\", \"pascal\", \"c\", \"javascript\", \"assembley\", \"html\", \"c++\"]\n",
    "\n",
    "def checkVal(mylist):\n",
    "    for val in mylist:\n",
    "        if val == \"python\":\n",
    "            print(\"python\")\n",
    "        elif val == \"html\":\n",
    "            print(\"html\")\n",
    "        elif val == \"c\":\n",
    "            print(\"c\")\n",
    "    \n",
    "checkVal(data)"
   ]
  },
  {
   "cell_type": "code",
   "execution_count": null,
   "metadata": {},
   "outputs": [],
   "source": [
    "\n"
   ]
  },
  {
   "cell_type": "markdown",
   "metadata": {},
   "source": [
    "shift list item to right n times"
   ]
  },
  {
   "cell_type": "code",
   "execution_count": null,
   "metadata": {},
   "outputs": [],
   "source": []
  },
  {
   "cell_type": "code",
   "execution_count": null,
   "metadata": {},
   "outputs": [],
   "source": []
  },
  {
   "cell_type": "code",
   "execution_count": 2,
   "metadata": {},
   "outputs": [
    {
     "name": "stdout",
     "output_type": "stream",
     "text": [
      "enter radius34\n",
      "Area ≈ 3630.996\n",
      "do you want to quit ? yes/nono\n",
      "enter radius34\n",
      "Area ≈ 3630.996\n",
      "do you want to quit ? yes/nog\n",
      "enter radius22222\n",
      "Area ≈ 1551080089.044\n",
      "do you want to quit ? yes/noyes\n"
     ]
    }
   ],
   "source": [
    "def calcArea(radius, pi=3.141):\n",
    "    Area = pi * (radius **2)\n",
    "    return print(f\"Area ≈ {Area}\")\n",
    "\n",
    "getArea = True\n",
    "while getArea:\n",
    "    rad = float(input(\"enter radius\"))\n",
    "    calcArea(rad)\n",
    "    exit = input(\"do you want to quit ? yes/no\")\n",
    "    if exit == \"yes\" or exit == \"quit\":\n",
    "        getArea = False \n",
    "    "
   ]
  },
  {
   "cell_type": "code",
   "execution_count": null,
   "metadata": {},
   "outputs": [],
   "source": [
    "\n"
   ]
  },
  {
   "cell_type": "markdown",
   "metadata": {},
   "source": [
    "Function with **kwargs:"
   ]
  },
  {
   "cell_type": "code",
   "execution_count": 46,
   "metadata": {},
   "outputs": [
    {
     "name": "stdout",
     "output_type": "stream",
     "text": [
      "Enter your name :numan ijaz\n",
      "Enter your Class :AI\n",
      "Enter your class date :28-09-2020\n",
      "hello numan ijaz\n",
      "Here is your result for class of class AI.\n",
      "Your score card is as follows.\n",
      "ClassMarks:\n",
      "\tmath : 50\n",
      "\tphysics : 80\n",
      "\tbiology : 90\n",
      "\tcomputer : 67\n",
      "total marks are : 287\n",
      "Percentage is as follows:71.75%\n",
      "maximum marks are : 90\n",
      "minimum marks are : 50\n",
      "You are promoted to next class.\n"
     ]
    }
   ],
   "source": [
    "inputName = input(\"Enter your name :\")\n",
    "inputClass = input(\"Enter your Class :\")\n",
    "# inputMarks = input(\"Enter your marks :\")\n",
    "inputDate = input(\"Enter your class date :\")\n",
    "\n",
    "def showDetails(name,Class,date,nextClass,**kwargs):\n",
    "    markslist = []\n",
    "    print(f\"hello {name}\\nHere is your result for class of class {Class}.\\nYour score card is as follows.\\nClassMarks:\")\n",
    "    for sub,subMarks in kwargs[\"marks\"].items(): \n",
    "        markslist.append(subMarks)\n",
    "        print(f\"\\t{sub} : {subMarks}\")\n",
    "        \n",
    "    totalmarks = sum(markslist)\n",
    "    numOfSubjects = len(markslist)\n",
    "    print(\"total marks are :\",totalmarks)\n",
    "    avgMarks = totalmarks/numOfSubjects\n",
    "    print(f\"Percentage is as follows:{avgMarks}%\")\n",
    "    print(f\"maximum marks are : {max(markslist)}\")\n",
    "    print(f\"minimum marks are : {min(markslist)}\")\n",
    "    if avgMarks < 60 :\n",
    "        print(\"youre fail repeate this class\")\n",
    "    else:\n",
    "        print(\"You are promoted to next class.\")\n",
    "    \n",
    "    \n",
    "showDetails(inputName,inputClass,inputDate, nextClass = True , marks = {\"math\" : 50, \"physics\" : 80, \"biology\" : 90, \"computer\" : 67})\n",
    "    "
   ]
  },
  {
   "cell_type": "code",
   "execution_count": null,
   "metadata": {},
   "outputs": [],
   "source": []
  }
 ],
 "metadata": {
  "kernelspec": {
   "display_name": "Python 3",
   "language": "python",
   "name": "python3"
  }
 },
 "nbformat": 4,
 "nbformat_minor": 2
}
