{
 "cells": [
  {
   "cell_type": "markdown",
   "metadata": {},
   "source": [
    "# Assignment 1"
   ]
  },
  {
   "cell_type": "code",
   "execution_count": 1,
   "metadata": {},
   "outputs": [
    {
     "name": "stdout",
     "output_type": "stream",
     "text": [
      "How Many Persons you want to Add ? (Only in Numbers) \n",
      "2\n",
      "Enter Person 1 Information \n",
      "\n",
      "Enter your full name: numanijaz\n",
      "Enter your age |only in Numbers |: 21\n",
      "Enter your Department, i.e('Blockchain'): AI\n",
      "how many skill you have ? |only in Numbers |: 3\n",
      "enter your Skill number 1 : eating\n",
      "enter your Skill number 2 : cheating\n",
      "enter your Skill number 3 : beating\n",
      "Enter your Degree i.e(BS , MS): BS\n",
      "Enter Degree Major Subject i.e (CS): CS\n",
      "enter Degree completion Date |only in Numbers |: 2021\n",
      "Enter your salry |only in Numbers |: \n",
      "2000000\n",
      "Enter Person 2 Information \n",
      "\n",
      "Enter your full name: kug;kug\n",
      "Enter your age |only in Numbers |: 666\n",
      "Enter your Department, i.e('Blockchain'): jkjgkg\n",
      "how many skill you have ? |only in Numbers |: 2\n",
      "enter your Skill number 1 : gdgfdag\n",
      "enter your Skill number 2 : ddg\n",
      "Enter your Degree i.e(BS , MS): hadh\n",
      "Enter Degree Major Subject i.e (CS): hgh\n",
      "enter Degree completion Date |only in Numbers |: 55555\n",
      "Enter your salry |only in Numbers |: \n",
      "33333333\n"
     ]
    }
   ],
   "source": [
    "dataList = []\n",
    "persons = int(input(\"How Many Persons you want to Add ? (Only in Numbers) \\n\"))\n",
    "skilList = []\n",
    "\n",
    "singleperson ={}\n",
    "for person in range(persons):\n",
    "    print(\"Enter Person {} Information \\n\".format(person +1))\n",
    "    name = input(\"Enter your full name: \")\n",
    "    age = int(input(\"Enter your age |only in Numbers |: \"))\n",
    "    work = input(\"Enter your Department, i.e('Blockchain'): \")\n",
    "    skills = int(input(\"how many skill you have ? |only in Numbers |: \"))\n",
    "    skillist =[]\n",
    "    for skill in range(skills):\n",
    "        innerSkill = input(\"enter your Skill number {} : \".format(skill+1))\n",
    "        skillist.append(innerSkill)\n",
    "    title = input(\"Enter your Degree i.e(BS , MS): \")\n",
    "    major = input(\"Enter Degree Major Subject i.e (CS): \")\n",
    "    completionDate = input(\"enter Degree completion Date |only in Numbers |: \")\n",
    "    degree = {\"title\":title,\n",
    "               \"major\":major,\n",
    "               \"completionDate\":completionDate}\n",
    "    salary = int(input(\"Enter your salry |only in Numbers |: \\n\"))\n",
    "    singleperson = {\n",
    "                   \"name\":name,\n",
    "                   \"age\":age,\n",
    "                   \"work\":work,\n",
    "                   \"skills\":skillist,\n",
    "                   \"degree\":degree,\n",
    "                   \"salary\":salary,\n",
    "                   }\n",
    "    dataList.append(singleperson)\n",
    "    \n"
   ]
  },
  {
   "cell_type": "code",
   "execution_count": null,
   "metadata": {},
   "outputs": [],
   "source": []
  },
  {
   "cell_type": "code",
   "execution_count": 3,
   "metadata": {},
   "outputs": [
    {
     "data": {
      "text/plain": [
       "[{'name': 'Numan Ijaz',\n",
       "  'age': 21,\n",
       "  'work': 'AI Scientist',\n",
       "  'skills': ['programming',\n",
       "   'content writing',\n",
       "   'web developing',\n",
       "   'app development',\n",
       "   'IoT '],\n",
       "  'degree': {'title': 'BS', 'major': 'CS', 'completionDate': '2021'},\n",
       "  'salary': 500000},\n",
       " {'name': 'Qasim',\n",
       "  'age': 22,\n",
       "  'work': 'Police',\n",
       "  'skills': ['reading', 'gaming'],\n",
       "  'degree': {'title': 'BBA', 'major': 'Businness', 'completionDate': '2020'},\n",
       "  'salary': 200000},\n",
       " {'name': 'NaVid Arshad',\n",
       "  'age': 24,\n",
       "  'work': 'AI',\n",
       "  'skills': ['iot', 'dialing', 'app development'],\n",
       "  'degree': {'title': 'bs', 'major': 'cs', 'completionDate': '1998'},\n",
       "  'salary': 70000},\n",
       " {'name': 'Ahmed ',\n",
       "  'age': 29,\n",
       "  'work': 'networking',\n",
       "  'skills': ['srae', 'rgaer'],\n",
       "  'degree': {'title': 'ms', 'major': 'it', 'completionDate': '3344'},\n",
       "  'salary': 444444}]"
      ]
     },
     "execution_count": 3,
     "metadata": {},
     "output_type": "execute_result"
    }
   ],
   "source": [
    "dataList\n"
   ]
  },
  {
   "cell_type": "code",
   "execution_count": 2,
   "metadata": {},
   "outputs": [
    {
     "data": {
      "text/plain": [
       "[{'name': 'numanijaz',\n",
       "  'age': 21,\n",
       "  'work': 'AI',\n",
       "  'skills': ['eating', 'cheating', 'beating'],\n",
       "  'degree': {'title': 'BS', 'major': 'CS', 'completionDate': '2021'},\n",
       "  'salary': 2000000},\n",
       " {'name': 'kug;kug',\n",
       "  'age': 666,\n",
       "  'work': 'jkjgkg',\n",
       "  'skills': ['gdgfdag', 'ddg'],\n",
       "  'degree': {'title': 'hadh', 'major': 'hgh', 'completionDate': '55555'},\n",
       "  'salary': 33333333}]"
      ]
     },
     "execution_count": 2,
     "metadata": {},
     "output_type": "execute_result"
    }
   ],
   "source": [
    "dataList\n",
    "\n"
   ]
  },
  {
   "cell_type": "code",
   "execution_count": null,
   "metadata": {},
   "outputs": [],
   "source": []
  },
  {
   "cell_type": "markdown",
   "metadata": {},
   "source": [
    "# Assignment 2\n"
   ]
  },
  {
   "cell_type": "code",
   "execution_count": 1,
   "metadata": {},
   "outputs": [
    {
     "name": "stdout",
     "output_type": "stream",
     "text": [
      "first enter your first Range and then Second i.e (1 , 10) \n",
      "\n",
      "From where you want to 'Start' table ? enter first Number : 1\n",
      "to where you want to 'End' table ? enter last Number : 5\n"
     ]
    },
    {
     "ename": "NameError",
     "evalue": "name 'tableToPrint' is not defined",
     "output_type": "error",
     "traceback": [
      "\u001b[1;31m---------------------------------------------------------------------------\u001b[0m",
      "\u001b[1;31mNameError\u001b[0m                                 Traceback (most recent call last)",
      "\u001b[1;32m<ipython-input-1-5c775192405d>\u001b[0m in \u001b[0;36m<module>\u001b[1;34m\u001b[0m\n\u001b[0;32m      6\u001b[0m \u001b[1;31m#     print(\"{} * {} = {}\".format(tableToPrint,table,tableToPrint * table))\u001b[0m\u001b[1;33m\u001b[0m\u001b[1;33m\u001b[0m\u001b[1;33m\u001b[0m\u001b[0m\n\u001b[0;32m      7\u001b[0m       \u001b[1;32mfor\u001b[0m \u001b[0mntable\u001b[0m \u001b[1;32min\u001b[0m \u001b[0mrange\u001b[0m\u001b[1;33m(\u001b[0m\u001b[0mfromRange\u001b[0m\u001b[1;33m,\u001b[0m\u001b[0mtoRange\u001b[0m\u001b[1;33m+\u001b[0m\u001b[1;36m1\u001b[0m\u001b[1;33m)\u001b[0m\u001b[1;33m:\u001b[0m\u001b[1;33m\u001b[0m\u001b[1;33m\u001b[0m\u001b[0m\n\u001b[1;32m----> 8\u001b[1;33m           \u001b[0mprint\u001b[0m\u001b[1;33m(\u001b[0m\u001b[1;34m\"{} * {} = {}\"\u001b[0m\u001b[1;33m.\u001b[0m\u001b[0mformat\u001b[0m\u001b[1;33m(\u001b[0m\u001b[0mtableToPrint\u001b[0m \u001b[1;33m,\u001b[0m\u001b[0mntable\u001b[0m\u001b[1;33m,\u001b[0m\u001b[0mtableToPrint\u001b[0m \u001b[1;33m*\u001b[0m \u001b[0mntable\u001b[0m\u001b[1;33m)\u001b[0m\u001b[1;33m)\u001b[0m\u001b[1;33m\u001b[0m\u001b[1;33m\u001b[0m\u001b[0m\n\u001b[0m\u001b[0;32m      9\u001b[0m \u001b[1;33m\u001b[0m\u001b[0m\n",
      "\u001b[1;31mNameError\u001b[0m: name 'tableToPrint' is not defined"
     ]
    }
   ],
   "source": [
    "print(\"first enter your first Range and then Second i.e (1 , 10) \\n\")\n",
    "tableToPrint = int(input(\"which table you want to print ? enter Number : \\n\"))\n",
    "fromRange = int(input(\"From where you want to 'Start' table ? enter first Number : \"))\n",
    "toRange = int(input(\"to where you want to 'End' table ? enter last Number : \"))\n",
    "for table in range(fromRange,toRange+1):\n",
    "    print(\"{} * {} = {}\".format(tableToPrint,table,tableToPrint * table))\n",
    "    for ntable in range(fromRange,toRange+1):\n",
    "        print(\"{} * {} = {}\".format(tableToPrint ,ntable,tableToPrint * ntable))\n",
    "\n"
   ]
  },
  {
   "cell_type": "code",
   "execution_count": 2,
   "metadata": {},
   "outputs": [
    {
     "name": "stdout",
     "output_type": "stream",
     "text": [
      "From where you want to 'Start' table ? enter first Number : 1\n",
      "to where you want to 'End' table ? enter last Number : 4\n"
     ]
    },
    {
     "ename": "TypeError",
     "evalue": "'int' object is not iterable",
     "output_type": "error",
     "traceback": [
      "\u001b[1;31m---------------------------------------------------------------------------\u001b[0m",
      "\u001b[1;31mTypeError\u001b[0m                                 Traceback (most recent call last)",
      "\u001b[1;32m<ipython-input-2-d6572008fc6e>\u001b[0m in \u001b[0;36m<module>\u001b[1;34m\u001b[0m\n\u001b[0;32m      3\u001b[0m \u001b[1;32mfor\u001b[0m \u001b[0mtable1\u001b[0m \u001b[1;32min\u001b[0m \u001b[0mrange\u001b[0m\u001b[1;33m(\u001b[0m\u001b[0mfromRange1\u001b[0m\u001b[1;33m,\u001b[0m\u001b[0mtoRange2\u001b[0m\u001b[1;33m+\u001b[0m\u001b[1;36m1\u001b[0m\u001b[1;33m)\u001b[0m\u001b[1;33m:\u001b[0m\u001b[1;33m\u001b[0m\u001b[1;33m\u001b[0m\u001b[0m\n\u001b[0;32m      4\u001b[0m \u001b[1;31m#     print(\"{} * {} = {}\".format(tableToPrint,table,tableToPrint * table))\u001b[0m\u001b[1;33m\u001b[0m\u001b[1;33m\u001b[0m\u001b[1;33m\u001b[0m\u001b[0m\n\u001b[1;32m----> 5\u001b[1;33m     \u001b[1;32mfor\u001b[0m \u001b[0mtable\u001b[0m \u001b[1;32min\u001b[0m \u001b[0mtable1\u001b[0m\u001b[1;33m:\u001b[0m\u001b[1;33m\u001b[0m\u001b[1;33m\u001b[0m\u001b[0m\n\u001b[0m\u001b[0;32m      6\u001b[0m         \u001b[0mprint\u001b[0m\u001b[1;33m(\u001b[0m\u001b[1;34mf\"{table1} {table}\"\u001b[0m\u001b[1;33m)\u001b[0m\u001b[1;33m\u001b[0m\u001b[1;33m\u001b[0m\u001b[0m\n",
      "\u001b[1;31mTypeError\u001b[0m: 'int' object is not iterable"
     ]
    }
   ],
   "source": [
    "fromRange1 = int(input(\"From where you want to 'Start' table ? enter first Number : \"))\n",
    "toRange2 = int(input(\"to where you want to 'End' table ? enter last Number : \"))\n",
    "for table1 in range(fromRange1,toRange2+1):\n",
    "#     print(\"{} * {} = {}\".format(tableToPrint,table,tableToPrint * table))\n",
    "    for table in table1:\n",
    "        print(f\"{table1} {table}\")\n"
   ]
  },
  {
   "cell_type": "code",
   "execution_count": null,
   "metadata": {},
   "outputs": [],
   "source": []
  }
 ],
 "metadata": {
  "kernelspec": {
   "display_name": "Python 3",
   "language": "python",
   "name": "python3"
  },
  "language_info": {
   "codemirror_mode": {
    "name": "ipython",
    "version": 3
   },
   "file_extension": ".py",
   "mimetype": "text/x-python",
   "name": "python",
   "nbconvert_exporter": "python",
   "pygments_lexer": "ipython3",
   "version": "3.7.4"
  }
 },
 "nbformat": 4,
 "nbformat_minor": 2
}
