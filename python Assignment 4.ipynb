{
 "cells": [
  {
   "cell_type": "markdown",
   "metadata": {},
   "source": [
    "# Assignment 1"
   ]
  },
  {
   "cell_type": "code",
   "execution_count": 2,
   "metadata": {},
   "outputs": [
    {
     "name": "stdout",
     "output_type": "stream",
     "text": [
      "How Many Persons you want to Add ? (Only in Numbers) \n",
      "4\n",
      "Enter Person 1 Information \n",
      "\n",
      "Enter your full name: Numan Ijaz\n",
      "Enter your age |only in Numbers |: 21\n",
      "Enter your Department, i.e('Blockchain'): AI Scientist\n",
      "how many skill you have ? |only in Numbers |: 5\n",
      "enter your Skill number 1 : programming\n",
      "enter your Skill number 2 : content writing\n",
      "enter your Skill number 3 : web developing\n",
      "enter your Skill number 4 : app development\n",
      "enter your Skill number 5 : IoT \n",
      "Enter your Degree i.e(BS , MS): BS\n",
      "Enter Degree Major Subject i.e (CS): CS\n",
      "enter Degree completion Date |only in Numbers |: 2021\n",
      "Enter your salry |only in Numbers |: 500000\n",
      "Enter Person 2 Information \n",
      "\n",
      "Enter your full name: Qasim\n",
      "Enter your age |only in Numbers |: 22\n",
      "Enter your Department, i.e('Blockchain'): Police\n",
      "how many skill you have ? |only in Numbers |: 2\n",
      "enter your Skill number 1 : reading\n",
      "enter your Skill number 2 : gaming\n",
      "Enter your Degree i.e(BS , MS): BBA\n",
      "Enter Degree Major Subject i.e (CS): Businness\n",
      "enter Degree completion Date |only in Numbers |: 2020\n",
      "Enter your salry |only in Numbers |: 200000\n",
      "Enter Person 3 Information \n",
      "\n",
      "Enter your full name: NaVid Arshad\n",
      "Enter your age |only in Numbers |: 24\n",
      "Enter your Department, i.e('Blockchain'): AI\n",
      "how many skill you have ? |only in Numbers |: 3\n",
      "enter your Skill number 1 : iot\n",
      "enter your Skill number 2 : dialing\n",
      "enter your Skill number 3 : app development\n",
      "Enter your Degree i.e(BS , MS): bs\n",
      "Enter Degree Major Subject i.e (CS): cs\n",
      "enter Degree completion Date |only in Numbers |: 1998\n",
      "Enter your salry |only in Numbers |: 70000\n",
      "Enter Person 4 Information \n",
      "\n",
      "Enter your full name: Ahmed \n",
      "Enter your age |only in Numbers |: 29\n",
      "Enter your Department, i.e('Blockchain'): networking\n",
      "how many skill you have ? |only in Numbers |: 2\n",
      "enter your Skill number 1 : srae\n",
      "enter your Skill number 2 : rgaer\n",
      "Enter your Degree i.e(BS , MS): ms\n",
      "Enter Degree Major Subject i.e (CS): it\n",
      "enter Degree completion Date |only in Numbers |: 3344\n",
      "Enter your salry |only in Numbers |: 444444\n"
     ]
    }
   ],
   "source": [
    "dataList = []\n",
    "persons = int(input(\"How Many Persons you want to Add ? (Only in Numbers) \\n\"))\n",
    "skilList = []\n",
    "\n",
    "singleperson ={}\n",
    "for person in range(persons):\n",
    "    print(\"Enter Person {} Information \\n\".format(person +1))\n",
    "    name = input(\"Enter your full name: \")\n",
    "    age = int(input(\"Enter your age |only in Numbers |: \"))\n",
    "    work = input(\"Enter your Department, i.e('Blockchain'): \")\n",
    "    skills = int(input(\"how many skill you have ? |only in Numbers |: \"))\n",
    "    skillist =[]\n",
    "    for skill in range(skills):\n",
    "        innerSkill = input(\"enter your Skill number {} : \".format(skill+1))\n",
    "        skillist.append(innerSkill)\n",
    "    title = input(\"Enter your Degree i.e(BS , MS): \")\n",
    "    major = input(\"Enter Degree Major Subject i.e (CS): \")\n",
    "    completionDate = input(\"enter Degree completion Date |only in Numbers |: \")\n",
    "    degree = {\"title\":title,\n",
    "               \"major\":major,\n",
    "               \"completionDate\":completionDate}\n",
    "    salary = int(input(\"Enter your salry |only in Numbers |: \\n\"))\n",
    "    singleperson = {\n",
    "                   \"name\":name,\n",
    "                   \"age\":age,\n",
    "                   \"work\":work,\n",
    "                   \"skills\":skillist,\n",
    "                   \"degree\":degree,\n",
    "                   \"salary\":salary,\n",
    "                   }\n",
    "    dataList.append(singleperson)\n",
    "    \n"
   ]
  },
  {
   "cell_type": "code",
   "execution_count": null,
   "metadata": {},
   "outputs": [],
   "source": []
  },
  {
   "cell_type": "code",
   "execution_count": 3,
   "metadata": {},
   "outputs": [
    {
     "data": {
      "text/plain": [
       "[{'name': 'Numan Ijaz',\n",
       "  'age': 21,\n",
       "  'work': 'AI Scientist',\n",
       "  'skills': ['programming',\n",
       "   'content writing',\n",
       "   'web developing',\n",
       "   'app development',\n",
       "   'IoT '],\n",
       "  'degree': {'title': 'BS', 'major': 'CS', 'completionDate': '2021'},\n",
       "  'salary': 500000},\n",
       " {'name': 'Qasim',\n",
       "  'age': 22,\n",
       "  'work': 'Police',\n",
       "  'skills': ['reading', 'gaming'],\n",
       "  'degree': {'title': 'BBA', 'major': 'Businness', 'completionDate': '2020'},\n",
       "  'salary': 200000},\n",
       " {'name': 'NaVid Arshad',\n",
       "  'age': 24,\n",
       "  'work': 'AI',\n",
       "  'skills': ['iot', 'dialing', 'app development'],\n",
       "  'degree': {'title': 'bs', 'major': 'cs', 'completionDate': '1998'},\n",
       "  'salary': 70000},\n",
       " {'name': 'Ahmed ',\n",
       "  'age': 29,\n",
       "  'work': 'networking',\n",
       "  'skills': ['srae', 'rgaer'],\n",
       "  'degree': {'title': 'ms', 'major': 'it', 'completionDate': '3344'},\n",
       "  'salary': 444444}]"
      ]
     },
     "execution_count": 3,
     "metadata": {},
     "output_type": "execute_result"
    }
   ],
   "source": [
    "dataList\n"
   ]
  },
  {
   "cell_type": "code",
   "execution_count": null,
   "metadata": {},
   "outputs": [],
   "source": [
    "\n"
   ]
  },
  {
   "cell_type": "code",
   "execution_count": null,
   "metadata": {},
   "outputs": [],
   "source": []
  },
  {
   "cell_type": "markdown",
   "metadata": {},
   "source": [
    "# Assignment 2\n"
   ]
  },
  {
   "cell_type": "code",
   "execution_count": 29,
   "metadata": {},
   "outputs": [
    {
     "name": "stdout",
     "output_type": "stream",
     "text": [
      "first enter your first Range and then Second i.e (1 , 10) \n",
      "\n",
      "which table you want to print ? enter Number : \n",
      "50\n",
      "From where you want to 'Start' table ? enter first Number : 1\n",
      "to where you want to 'End' table ? enter last Number : 10\n",
      "50 * 1 = 50\n",
      "50 * 2 = 100\n",
      "50 * 3 = 150\n",
      "50 * 4 = 200\n",
      "50 * 5 = 250\n",
      "50 * 6 = 300\n",
      "50 * 7 = 350\n",
      "50 * 8 = 400\n",
      "50 * 9 = 450\n",
      "50 * 10 = 500\n"
     ]
    }
   ],
   "source": [
    "print(\"first enter your first Range and then Second i.e (1 , 10) \\n\")\n",
    "tableToPrint = int(input(\"which table you want to print ? enter Number : \\n\"))\n",
    "fromRange = int(input(\"From where you want to 'Start' table ? enter first Number : \"))\n",
    "toRange = int(input(\"to where you want to 'End' table ? enter last Number : \"))\n",
    "for table in range(fromRange,toRange+1):\n",
    "    print(\"{} * {} = {}\".format(tableToPrint,table,tableToPrint * table))\n",
    "#     for ntable in range(fromRange,toRange+1):\n",
    "#         print(\"{} * {} = {}\".format(tableToPrint ,ntable,tableToPrint * ntable))\n",
    "    \n",
    "\n"
   ]
  },
  {
   "cell_type": "code",
   "execution_count": null,
   "metadata": {},
   "outputs": [],
   "source": []
  }
 ],
 "metadata": {
  "kernelspec": {
   "display_name": "Python 3",
   "language": "python",
   "name": "python3"
  },
  "language_info": {
   "codemirror_mode": {
    "name": "ipython",
    "version": 3
   },
   "file_extension": ".py",
   "mimetype": "text/x-python",
   "name": "python",
   "nbconvert_exporter": "python",
   "pygments_lexer": "ipython3",
   "version": "3.7.4"
  }
 },
 "nbformat": 4,
 "nbformat_minor": 2
}
